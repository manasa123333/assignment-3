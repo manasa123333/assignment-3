{
 "cells": [
  {
   "cell_type": "markdown",
   "id": "297c0d81-c4df-435c-9a23-fc6a2e58a57d",
   "metadata": {},
   "source": [
    "Q1. Explain with an example each when to use a for loop and a while loop\n"
   ]
  },
  {
   "cell_type": "code",
   "execution_count": 1,
   "id": "4f4e08b2-4503-443f-ba0d-06de16227e95",
   "metadata": {},
   "outputs": [
    {
     "name": "stdout",
     "output_type": "stream",
     "text": [
      "0\n",
      "1\n",
      "2\n",
      "3\n",
      "4\n",
      "5\n",
      "6\n",
      "7\n",
      "8\n",
      "9\n"
     ]
    }
   ],
   "source": [
    "## we use for loop when we know how much iterations we need to have\n",
    "## for example ;\n",
    "for i in range(10):\n",
    "    print(i)"
   ]
  },
  {
   "cell_type": "code",
   "execution_count": 3,
   "id": "2e093e5b-4e6c-4e09-8f08-1bc7b2810227",
   "metadata": {},
   "outputs": [
    {
     "name": "stdin",
     "output_type": "stream",
     "text": [
      "Enter the name 45\n"
     ]
    },
    {
     "name": "stdout",
     "output_type": "stream",
     "text": [
      "name cannot be an integer\n"
     ]
    },
    {
     "name": "stdin",
     "output_type": "stream",
     "text": [
      "Enter the name varun\n"
     ]
    },
    {
     "name": "stdout",
     "output_type": "stream",
     "text": [
      "name : varun\n"
     ]
    }
   ],
   "source": [
    "# we use while loop when we know the stopping point but we dont know number of iterations\n",
    "\n",
    "while True:\n",
    "    name = input(\"Enter the name\")\n",
    "    if name.isalpha():\n",
    "        print(\"name :\",name)\n",
    "        break\n",
    "    else:\n",
    "        print(\"name cannot be an integer\")\n",
    "        continue\n",
    "        \n",
    "# here we only knew stopping condition i.e if name is alphabet stop the loop so in these type of cases we use while loop"
   ]
  },
  {
   "cell_type": "markdown",
   "id": "e4c68b32-af7b-4a98-8f36-c525bf1de582",
   "metadata": {},
   "source": [
    " Q2. Write a python program to print the sum and product of the first 10 natural numbers and while loop.\n"
   ]
  },
  {
   "cell_type": "code",
   "execution_count": 1,
   "id": "3151cdaa-272e-4792-a14b-af0ad1d62138",
   "metadata": {},
   "outputs": [
    {
     "name": "stdout",
     "output_type": "stream",
     "text": [
      "The sum of first 10 natural numbers : 55\n",
      "The product of first 10 natural numbers : 3628800\n"
     ]
    }
   ],
   "source": [
    "add = 0\n",
    "product = 1\n",
    "for i in range(1,11):\n",
    "    add = add + i\n",
    "    product = product*i\n",
    "    \n",
    "print(\"The sum of first 10 natural numbers :\",add)\n",
    "print(\"The product of first 10 natural numbers :\",product)"
   ]
  },
  {
   "cell_type": "markdown",
   "id": "374e9c61-4250-4872-a805-31ac3fc4102e",
   "metadata": {},
   "source": [
    "Q3. Create a python program to compute the electricity bill for a household.\n",
    "\n",
    "The per-unit charges in rupees are as follows: For the first 100 units, the user will be charged Rs. 4.5 per\n",
    "\n",
    "unit, for the next 100 units, the user will be charged Rs. 6 per unit, and for the next 100 units, the user will\n",
    "\n",
    "be charged Rs. 10 per unit, After 300 units and above the user will be charged Rs. 20 per unit.\n",
    "\n",
    "You are required to take the units of electricity consumed in a month from the user as input.\n",
    "\n",
    "Your program must pass this test case: when the unit of electricity consumed by the user in a month is\n",
    "\n",
    "310, the total electricity bill should be 2250.\n"
   ]
  },
  {
   "cell_type": "code",
   "execution_count": 4,
   "id": "cbde73d5-55dd-438b-8ebe-881903ae2b41",
   "metadata": {},
   "outputs": [
    {
     "name": "stdin",
     "output_type": "stream",
     "text": [
      "Enter number of units in a month 310\n"
     ]
    },
    {
     "name": "stdout",
     "output_type": "stream",
     "text": [
      "The electricity bill is 2250.0 for310 units\n"
     ]
    }
   ],
   "source": [
    "unit = int(input(\"Enter number of units in a month\"))\n",
    "if unit <= 100:\n",
    "    bill = unit *4.5\n",
    "elif unit > 100 and unit <=200:\n",
    "    bill = (100*4.5)+((unit-100)*6)\n",
    "elif unit > 200 and unit <= 300:\n",
    "    bill = (100*4.5)+(100*6)+((unit-200)*10)\n",
    "else:\n",
    "    bill = (100*4.5)+(100*6)+(100*10)+((unit-300)*20)\n",
    "    \n",
    "print(\"The electricity bill is {0} for{1} units\".format(bill,unit)) "
   ]
  },
  {
   "cell_type": "markdown",
   "id": "b70d75f7-d16c-4f18-ba5a-6802b6bbf791",
   "metadata": {},
   "source": [
    "Q4. Create a list of numbers from 1 to 100. Use for loop and while loop to calculate the cube of each number and if the cube of that number is divisible by 4 or 5 then append that number in a list and print that list.\n"
   ]
  },
  {
   "cell_type": "code",
   "execution_count": 5,
   "id": "1eca31b1-50a3-44ab-91c2-8e303ea18971",
   "metadata": {},
   "outputs": [
    {
     "name": "stdout",
     "output_type": "stream",
     "text": [
      "[8, 64, 125, 216, 512, 1000, 1728, 2744, 3375, 4096, 5832, 8000, 10648, 13824, 15625, 17576, 21952, 27000, 32768, 39304, 42875, 46656, 54872, 64000, 74088, 85184, 91125, 97336, 110592, 125000, 140608, 157464, 166375, 175616, 195112, 216000, 238328, 262144, 274625, 287496, 314432, 343000, 373248, 405224, 421875, 438976, 474552, 512000, 551368, 592704, 614125, 636056, 681472, 729000, 778688, 830584, 857375, 884736, 941192, 1000000]\n"
     ]
    }
   ],
   "source": [
    "## using for loop\n",
    "l = []\n",
    "for i in range(1,101):\n",
    "    cube = i**3\n",
    "    if cube % 4 == 0 or cube % 5 == 0:\n",
    "        l.append(cube)\n",
    "        \n",
    "print(l)\n",
    "    "
   ]
  },
  {
   "cell_type": "code",
   "execution_count": 6,
   "id": "d6d995b5-fdef-421d-bc57-4f6f0028ea0d",
   "metadata": {},
   "outputs": [
    {
     "name": "stdout",
     "output_type": "stream",
     "text": [
      "[8, 64, 125, 216, 512, 1000, 1728, 2744, 3375, 4096, 5832, 8000, 10648, 13824, 15625, 17576, 21952, 27000, 32768, 39304, 42875, 46656, 54872, 64000, 74088, 85184, 91125, 97336, 110592, 125000, 140608, 157464, 166375, 175616, 195112, 216000, 238328, 262144, 274625, 287496, 314432, 343000, 373248, 405224, 421875, 438976, 474552, 512000, 551368, 592704, 614125, 636056, 681472, 729000, 778688, 830584, 857375, 884736, 941192, 1000000]\n"
     ]
    }
   ],
   "source": [
    "## using while loop\n",
    "l1 = []\n",
    "\n",
    "i=1\n",
    "while i <= 100:\n",
    "    cube1 = i**3\n",
    "    i = i + 1\n",
    "    if cube1 % 4 == 0 or cube1 % 5 == 0:\n",
    "        l1.append(cube1)\n",
    "print(l1)"
   ]
  },
  {
   "cell_type": "markdown",
   "id": "2fcf8699-868b-4009-b4ba-467f7fe16bc4",
   "metadata": {},
   "source": [
    "Q5. Write a program to filter count vowels in the below-given string. string = \"I want to become a data scientist\""
   ]
  },
  {
   "cell_type": "code",
   "execution_count": 5,
   "id": "6b2904e0-f2a8-479e-9155-52adfe3d93a4",
   "metadata": {},
   "outputs": [
    {
     "name": "stdout",
     "output_type": "stream",
     "text": [
      "Number of vowels in given string is : 12\n"
     ]
    }
   ],
   "source": [
    "count = 0\n",
    "string = \"I want to become a data scientist\"\n",
    "vowel = ['a','e','i','o','u','A','E','I','O','U']\n",
    "for i in string:\n",
    "    if i in vowel:\n",
    "        count = count + 1\n",
    "        \n",
    "print(\"Number of vowels in given string is :\",count)"
   ]
  },
  {
   "cell_type": "code",
   "execution_count": null,
   "id": "632870ed-2a88-411c-bb39-da537be8debb",
   "metadata": {},
   "outputs": [],
   "source": []
  }
 ],
 "metadata": {
  "kernelspec": {
   "display_name": "Python 3 (ipykernel)",
   "language": "python",
   "name": "python3"
  },
  "language_info": {
   "codemirror_mode": {
    "name": "ipython",
    "version": 3
   },
   "file_extension": ".py",
   "mimetype": "text/x-python",
   "name": "python",
   "nbconvert_exporter": "python",
   "pygments_lexer": "ipython3",
   "version": "3.10.8"
  }
 },
 "nbformat": 4,
 "nbformat_minor": 5
}
